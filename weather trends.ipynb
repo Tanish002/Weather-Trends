{
  "cells": [
    {
      "cell_type": "code",
      "execution_count": null,
      "metadata": {
        "colab": {
          "base_uri": "https://localhost:8080/"
        },
        "id": "VL3NxgjmJofQ",
        "outputId": "6170f995-e5a9-4598-f3b1-e4ad0c8334f5"
      },
      "outputs": [
        {
          "name": "stdout",
          "output_type": "stream",
          "text": [
            "Collecting streamlit\n",
            "  Downloading streamlit-1.41.1-py2.py3-none-any.whl.metadata (8.5 kB)\n",
            "Requirement already satisfied: altair<6,>=4.0 in /usr/local/lib/python3.10/dist-packages (from streamlit) (5.5.0)\n",
            "Requirement already satisfied: blinker<2,>=1.0.0 in /usr/local/lib/python3.10/dist-packages (from streamlit) (1.9.0)\n",
            "Requirement already satisfied: cachetools<6,>=4.0 in /usr/local/lib/python3.10/dist-packages (from streamlit) (5.5.0)\n",
            "Requirement already satisfied: click<9,>=7.0 in /usr/local/lib/python3.10/dist-packages (from streamlit) (8.1.7)\n",
            "Requirement already satisfied: numpy<3,>=1.23 in /usr/local/lib/python3.10/dist-packages (from streamlit) (1.26.4)\n",
            "Requirement already satisfied: packaging<25,>=20 in /usr/local/lib/python3.10/dist-packages (from streamlit) (24.2)\n",
            "Requirement already satisfied: pandas<3,>=1.4.0 in /usr/local/lib/python3.10/dist-packages (from streamlit) (2.2.2)\n",
            "Requirement already satisfied: pillow<12,>=7.1.0 in /usr/local/lib/python3.10/dist-packages (from streamlit) (11.0.0)\n",
            "Requirement already satisfied: protobuf<6,>=3.20 in /usr/local/lib/python3.10/dist-packages (from streamlit) (4.25.5)\n",
            "Requirement already satisfied: pyarrow>=7.0 in /usr/local/lib/python3.10/dist-packages (from streamlit) (17.0.0)\n",
            "Requirement already satisfied: requests<3,>=2.27 in /usr/local/lib/python3.10/dist-packages (from streamlit) (2.32.3)\n",
            "Requirement already satisfied: rich<14,>=10.14.0 in /usr/local/lib/python3.10/dist-packages (from streamlit) (13.9.4)\n",
            "Requirement already satisfied: tenacity<10,>=8.1.0 in /usr/local/lib/python3.10/dist-packages (from streamlit) (9.0.0)\n",
            "Requirement already satisfied: toml<2,>=0.10.1 in /usr/local/lib/python3.10/dist-packages (from streamlit) (0.10.2)\n",
            "Requirement already satisfied: typing-extensions<5,>=4.3.0 in /usr/local/lib/python3.10/dist-packages (from streamlit) (4.12.2)\n",
            "Collecting watchdog<7,>=2.1.5 (from streamlit)\n",
            "  Downloading watchdog-6.0.0-py3-none-manylinux2014_x86_64.whl.metadata (44 kB)\n",
            "\u001b[2K     \u001b[90m━━━━━━━━━━━━━━━━━━━━━━━━━━━━━━━━━━━━━━━━\u001b[0m \u001b[32m44.3/44.3 kB\u001b[0m \u001b[31m1.8 MB/s\u001b[0m eta \u001b[36m0:00:00\u001b[0m\n",
            "\u001b[?25hRequirement already satisfied: gitpython!=3.1.19,<4,>=3.0.7 in /usr/local/lib/python3.10/dist-packages (from streamlit) (3.1.43)\n",
            "Collecting pydeck<1,>=0.8.0b4 (from streamlit)\n",
            "  Downloading pydeck-0.9.1-py2.py3-none-any.whl.metadata (4.1 kB)\n",
            "Requirement already satisfied: tornado<7,>=6.0.3 in /usr/local/lib/python3.10/dist-packages (from streamlit) (6.3.3)\n",
            "Requirement already satisfied: jinja2 in /usr/local/lib/python3.10/dist-packages (from altair<6,>=4.0->streamlit) (3.1.4)\n",
            "Requirement already satisfied: jsonschema>=3.0 in /usr/local/lib/python3.10/dist-packages (from altair<6,>=4.0->streamlit) (4.23.0)\n",
            "Requirement already satisfied: narwhals>=1.14.2 in /usr/local/lib/python3.10/dist-packages (from altair<6,>=4.0->streamlit) (1.17.0)\n",
            "Requirement already satisfied: gitdb<5,>=4.0.1 in /usr/local/lib/python3.10/dist-packages (from gitpython!=3.1.19,<4,>=3.0.7->streamlit) (4.0.11)\n",
            "Requirement already satisfied: python-dateutil>=2.8.2 in /usr/local/lib/python3.10/dist-packages (from pandas<3,>=1.4.0->streamlit) (2.8.2)\n",
            "Requirement already satisfied: pytz>=2020.1 in /usr/local/lib/python3.10/dist-packages (from pandas<3,>=1.4.0->streamlit) (2024.2)\n",
            "Requirement already satisfied: tzdata>=2022.7 in /usr/local/lib/python3.10/dist-packages (from pandas<3,>=1.4.0->streamlit) (2024.2)\n",
            "Requirement already satisfied: charset-normalizer<4,>=2 in /usr/local/lib/python3.10/dist-packages (from requests<3,>=2.27->streamlit) (3.4.0)\n",
            "Requirement already satisfied: idna<4,>=2.5 in /usr/local/lib/python3.10/dist-packages (from requests<3,>=2.27->streamlit) (3.10)\n",
            "Requirement already satisfied: urllib3<3,>=1.21.1 in /usr/local/lib/python3.10/dist-packages (from requests<3,>=2.27->streamlit) (2.2.3)\n",
            "Requirement already satisfied: certifi>=2017.4.17 in /usr/local/lib/python3.10/dist-packages (from requests<3,>=2.27->streamlit) (2024.8.30)\n",
            "Requirement already satisfied: markdown-it-py>=2.2.0 in /usr/local/lib/python3.10/dist-packages (from rich<14,>=10.14.0->streamlit) (3.0.0)\n",
            "Requirement already satisfied: pygments<3.0.0,>=2.13.0 in /usr/local/lib/python3.10/dist-packages (from rich<14,>=10.14.0->streamlit) (2.18.0)\n",
            "Requirement already satisfied: smmap<6,>=3.0.1 in /usr/local/lib/python3.10/dist-packages (from gitdb<5,>=4.0.1->gitpython!=3.1.19,<4,>=3.0.7->streamlit) (5.0.1)\n",
            "Requirement already satisfied: MarkupSafe>=2.0 in /usr/local/lib/python3.10/dist-packages (from jinja2->altair<6,>=4.0->streamlit) (3.0.2)\n",
            "Requirement already satisfied: attrs>=22.2.0 in /usr/local/lib/python3.10/dist-packages (from jsonschema>=3.0->altair<6,>=4.0->streamlit) (24.2.0)\n",
            "Requirement already satisfied: jsonschema-specifications>=2023.03.6 in /usr/local/lib/python3.10/dist-packages (from jsonschema>=3.0->altair<6,>=4.0->streamlit) (2024.10.1)\n",
            "Requirement already satisfied: referencing>=0.28.4 in /usr/local/lib/python3.10/dist-packages (from jsonschema>=3.0->altair<6,>=4.0->streamlit) (0.35.1)\n",
            "Requirement already satisfied: rpds-py>=0.7.1 in /usr/local/lib/python3.10/dist-packages (from jsonschema>=3.0->altair<6,>=4.0->streamlit) (0.22.3)\n",
            "Requirement already satisfied: mdurl~=0.1 in /usr/local/lib/python3.10/dist-packages (from markdown-it-py>=2.2.0->rich<14,>=10.14.0->streamlit) (0.1.2)\n",
            "Requirement already satisfied: six>=1.5 in /usr/local/lib/python3.10/dist-packages (from python-dateutil>=2.8.2->pandas<3,>=1.4.0->streamlit) (1.17.0)\n",
            "Downloading streamlit-1.41.1-py2.py3-none-any.whl (9.1 MB)\n",
            "\u001b[2K   \u001b[90m━━━━━━━━━━━━━━━━━━━━━━━━━━━━━━━━━━━━━━━━\u001b[0m \u001b[32m9.1/9.1 MB\u001b[0m \u001b[31m56.2 MB/s\u001b[0m eta \u001b[36m0:00:00\u001b[0m\n",
            "\u001b[?25hDownloading pydeck-0.9.1-py2.py3-none-any.whl (6.9 MB)\n",
            "\u001b[2K   \u001b[90m━━━━━━━━━━━━━━━━━━━━━━━━━━━━━━━━━━━━━━━━\u001b[0m \u001b[32m6.9/6.9 MB\u001b[0m \u001b[31m74.3 MB/s\u001b[0m eta \u001b[36m0:00:00\u001b[0m\n",
            "\u001b[?25hDownloading watchdog-6.0.0-py3-none-manylinux2014_x86_64.whl (79 kB)\n",
            "\u001b[2K   \u001b[90m━━━━━━━━━━━━━━━━━━━━━━━━━━━━━━━━━━━━━━━━\u001b[0m \u001b[32m79.1/79.1 kB\u001b[0m \u001b[31m5.2 MB/s\u001b[0m eta \u001b[36m0:00:00\u001b[0m\n",
            "\u001b[?25hInstalling collected packages: watchdog, pydeck, streamlit\n",
            "Successfully installed pydeck-0.9.1 streamlit-1.41.1 watchdog-6.0.0\n",
            "Collecting pyngrok\n",
            "  Downloading pyngrok-7.2.2-py3-none-any.whl.metadata (8.4 kB)\n",
            "Requirement already satisfied: PyYAML>=5.1 in /usr/local/lib/python3.10/dist-packages (from pyngrok) (6.0.2)\n",
            "Downloading pyngrok-7.2.2-py3-none-any.whl (22 kB)\n",
            "Installing collected packages: pyngrok\n",
            "Successfully installed pyngrok-7.2.2\n"
          ]
        }
      ],
      "source": [
        "!pip install streamlit\n",
        "!pip install pyngrok"
      ]
    },
    {
      "cell_type": "code",
      "execution_count": null,
      "metadata": {
        "colab": {
          "base_uri": "https://localhost:8080/"
        },
        "id": "R5TgTTtWPn0_",
        "outputId": "d7c8995e-5e08-4e6b-bb93-31e7bded6bf0"
      },
      "outputs": [
        {
          "name": "stdout",
          "output_type": "stream",
          "text": [
            "Writing app.py\n"
          ]
        }
      ],
      "source": [
        "%%writefile app.py\n",
        "import pandas as pd\n",
        "import numpy as np\n",
        "from sklearn.model_selection import train_test_split\n",
        "from sklearn.ensemble import RandomForestRegressor, GradientBoostingRegressor\n",
        "from xgboost import XGBRegressor\n",
        "from sklearn.multioutput import MultiOutputRegressor\n",
        "from sklearn.metrics import mean_absolute_error, mean_squared_error, r2_score\n",
        "import matplotlib.pyplot as plt\n",
        "import streamlit as st\n",
        "\n",
        "st.title(\"Weather Data Analysis and Prediction\")\n",
        "st.write(\"Upload your weather dataset (CSV format) to analyze and predict weather metrics for upcoming days.\")\n",
        "\n",
        "# Step 2: File Upload\n",
        "uploaded_file = st.file_uploader(\"Upload a CSV file\", type=\"csv\")\n",
        "\n",
        "if uploaded_file is not None:\n",
        "    data = pd.read_csv(uploaded_file)\n",
        "\n",
        "    # Step 3: Feature Engineering\n",
        "    data['Date'] = pd.to_datetime(data['Date'])\n",
        "    data['Year'] = data['Date'].dt.year\n",
        "    data['Month'] = data['Date'].dt.month\n",
        "    data['Day'] = data['Date'].dt.day\n",
        "    data['DayOfWeek'] = data['Date'].dt.dayofweek\n",
        "    data['IsWeekend'] = data['DayOfWeek'].isin([5, 6]).astype(int)\n",
        "\n",
        "    # Adding rolling averages and lagged features\n",
        "    data['Temp_Change'] = data['Max Temperature (C)'] - data['Min Temperature (C)']\n",
        "    data['Temp_3Day_Avg'] = data['Avg Temperature (C)'].rolling(window=3).mean()\n",
        "    data['Temp_7Day_Avg'] = data['Avg Temperature (C)'].rolling(window=7).mean()\n",
        "    data['Temp_30Day_Avg'] = data['Avg Temperature (C)'].rolling(window=30).mean()\n",
        "    data['Humidity_3Day_Avg'] = data['Avg Humidity'].rolling(window=3).mean()\n",
        "    data['Humidity_7Day_Avg'] = data['Avg Humidity'].rolling(window=7).mean()\n",
        "    data['DewPoint_3Day_Min'] = data['Avg Dew Point (C)'].rolling(window=3).min()\n",
        "    data['WindSpeed_7Day_Max'] = data['Avg Wind Speed'].rolling(window=7).max()\n",
        "    data['WindSpeed_30Day_Std'] = data['Avg Wind Speed'].rolling(window=30).std()\n",
        "\n",
        "    # Create next-day targets\n",
        "    data['Next_Day_Max_Temperature'] = data['Max Temperature (C)'].shift(-1)\n",
        "    data['Next_Day_Min_Temperature'] = data['Min Temperature (C)'].shift(-1)\n",
        "    data['Next_Day_Humidity'] = data['Avg Humidity'].shift(-1)\n",
        "    data['Next_Day_Wind_Speed'] = data['Avg Wind Speed'].shift(-1)\n",
        "    data.dropna(inplace=True)\n",
        "\n",
        "    # Defining features and targets\n",
        "    target_columns = ['Next_Day_Max_Temperature', 'Next_Day_Min_Temperature', 'Next_Day_Humidity', 'Next_Day_Wind_Speed']\n",
        "    X = data.drop(columns=target_columns + ['Date'])\n",
        "    y = data[target_columns]\n",
        "\n",
        "    # Step 4: Train-Test Split\n",
        "    X_train, X_test, y_train, y_test = train_test_split(X, y, test_size=0.2, random_state=42)\n",
        "\n",
        "    # Step 5: Train Models\n",
        "    models = {\n",
        "        'Random Forest': MultiOutputRegressor(RandomForestRegressor(n_estimators=100, random_state=42)),\n",
        "        'Gradient Boosting': MultiOutputRegressor(GradientBoostingRegressor(n_estimators=100, random_state=42)),\n",
        "        'XGBoost': MultiOutputRegressor(XGBRegressor(n_estimators=100, random_state=42, objective='reg:squarederror'))\n",
        "    }\n",
        "\n",
        "    results = {}\n",
        "    st.write(\"Training models, please wait...\")\n",
        "    for model_name, model in models.items():\n",
        "        model.fit(X_train, y_train)\n",
        "        y_pred = model.predict(X_test)\n",
        "        mae = mean_absolute_error(y_test, y_pred, multioutput='raw_values')\n",
        "        mse = mean_squared_error(y_test, y_pred, multioutput='raw_values')\n",
        "        r2 = r2_score(y_test, y_pred, multioutput='raw_values')\n",
        "        results[model_name] = {\n",
        "            'MAE': mae, 'MSE': mse, 'R2': r2\n",
        "        }\n",
        "\n",
        "    # Display Results\n",
        "    # Flatten results to separate each target variable metric\n",
        "    flattened_results = {}\n",
        "    for model_name, metrics in results.items():\n",
        "        for metric_name, metric_values in metrics.items():\n",
        "            for i, target in enumerate([\"Max_Temp\", \"Min_Temp\", \"Humidity\", \"Wind_Speed\"]):\n",
        "                flattened_results[f\"{model_name}_{metric_name}_{target}\"] = metric_values[i]\n",
        "\n",
        "    # Convert the flattened dictionary to a DataFrame\n",
        "    results_df = pd.DataFrame([flattened_results])\n",
        "\n",
        "    # Display the results in Streamlit\n",
        "    st.write(\"\\nEvaluation Results:\")\n",
        "    st.write(results_df)\n",
        "\n",
        "\n",
        "    # Step 6: Prediction\n",
        "    st.subheader(\"Predict Weather for Upcoming Days\")\n",
        "    days = st.slider(\"Select number of days to predict:\", 1, 14, 7)\n",
        "\n",
        "    def prepare_latest_data(latest_data):\n",
        "        pred_data = latest_data.copy()\n",
        "        pred_data['Temp_Change'] = pred_data['Max Temperature (C)'] - pred_data['Min Temperature (C)']\n",
        "        pred_data['Temp_3Day_Avg'] = latest_data['Temp_3Day_Avg'].iloc[-1]\n",
        "        pred_data['Temp_7Day_Avg'] = latest_data['Temp_7Day_Avg'].iloc[-1]\n",
        "        pred_data['Temp_30Day_Avg'] = latest_data['Temp_30Day_Avg'].iloc[-1]\n",
        "        pred_data['Humidity_3Day_Avg'] = latest_data['Humidity_3Day_Avg'].iloc[-1]\n",
        "        pred_data['Humidity_7Day_Avg'] = latest_data['Humidity_7Day_Avg'].iloc[-1]\n",
        "        pred_data['DewPoint_3Day_Min'] = latest_data['DewPoint_3Day_Min'].iloc[-1]\n",
        "        pred_data['WindSpeed_7Day_Max'] = latest_data['WindSpeed_7Day_Max'].iloc[-1]\n",
        "        pred_data['WindSpeed_30Day_Std'] = latest_data['WindSpeed_30Day_Std'].iloc[-1]\n",
        "        return pred_data[X.columns]\n",
        "\n",
        "    def predict_next_days(model, latest_data, days=7):\n",
        "        predictions = []\n",
        "        current_data = latest_data.copy()\n",
        "        for day in range(days):\n",
        "            pred_input = prepare_latest_data(current_data)\n",
        "            next_day_pred = model.predict(pred_input)\n",
        "            pred_date = current_data['Date'].iloc[-1] + pd.Timedelta(days=1)\n",
        "            pred_dict = {\n",
        "                'Date': pred_date,\n",
        "                'Predicted_Max_Temp': next_day_pred[0][0],\n",
        "                'Predicted_Min_Temp': next_day_pred[0][1],\n",
        "                'Predicted_Humidity': next_day_pred[0][2],\n",
        "                'Predicted_Wind_Speed': next_day_pred[0][3]\n",
        "            }\n",
        "            predictions.append(pred_dict)\n",
        "            new_row = current_data.iloc[-1:].copy()\n",
        "            new_row['Date'] = pred_date\n",
        "            new_row['Max Temperature (C)'] = next_day_pred[0][0]\n",
        "            new_row['Min Temperature (C)'] = next_day_pred[0][1]\n",
        "            new_row['Avg Temperature (C)'] = (next_day_pred[0][0] + next_day_pred[0][1]) / 2\n",
        "            new_row['Avg Humidity'] = next_day_pred[0][2]\n",
        "            new_row['Avg Wind Speed'] = next_day_pred[0][3]\n",
        "            current_data = pd.concat([current_data, new_row], ignore_index=True)\n",
        "            current_data['Temp_3Day_Avg'] = current_data['Avg Temperature (C)'].rolling(window=3).mean()\n",
        "            current_data['Temp_7Day_Avg'] = current_data['Avg Temperature (C)'].rolling(window=7).mean()\n",
        "            current_data['Temp_30Day_Avg'] = current_data['Avg Temperature (C)'].rolling(window=30).mean()\n",
        "            current_data['Humidity_3Day_Avg'] = current_data['Avg Humidity'].rolling(window=3).mean()\n",
        "            current_data['Humidity_7Day_Avg'] = current_data['Avg Humidity'].rolling(window=7).mean()\n",
        "        return pd.DataFrame(predictions)\n",
        "\n",
        "    best_model = models['Random Forest']\n",
        "    latest_data = data.tail(30)  # Last 30 days for rolling averages\n",
        "    predictions_df = predict_next_days(best_model, latest_data, days=days)\n",
        "\n",
        "    st.subheader(f\"Weather Predictions for Next {days} Days\")\n",
        "    st.write(predictions_df.round(2))\n",
        "\n",
        "    # Optional: Plot predictions\n",
        "    st.subheader(\"Temperature Predictions Visualization\")\n",
        "    fig, ax = plt.subplots()\n",
        "    ax.plot(predictions_df['Date'], predictions_df['Predicted_Max_Temp'], 'r-', label='Max Temperature')\n",
        "    ax.plot(predictions_df['Date'], predictions_df['Predicted_Min_Temp'], 'b-', label='Min Temperature')\n",
        "    plt.title('Temperature Predictions for Next Days')\n",
        "    plt.xlabel('Date')\n",
        "    plt.ylabel('Temperature (°C)')\n",
        "    plt.legend()\n",
        "    plt.xticks(rotation=45)\n",
        "    st.pyplot(fig)\n"
      ]
    },
    {
      "cell_type": "code",
      "execution_count": null,
      "metadata": {
        "colab": {
          "base_uri": "https://localhost:8080/"
        },
        "id": "2q6pgkbKKhnI",
        "outputId": "fa092c2d-f1f9-4d93-8121-8423f67f6ad3"
      },
      "outputs": [
        {
          "name": "stdout",
          "output_type": "stream",
          "text": [
            "Authtoken saved to configuration file: /root/.config/ngrok/ngrok.yml\n"
          ]
        }
      ],
      "source": [
        "!ngrok config add-authtoken 2oPx4fOcyHF94uqEy3rjm8uP1k0_2FMnWmtSgTz8jt6nkdEkt"
      ]
    },
    {
      "cell_type": "code",
      "execution_count": null,
      "metadata": {
        "colab": {
          "base_uri": "https://localhost:8080/"
        },
        "id": "h7ew9axALBW5",
        "outputId": "3747a7d5-0e1d-43e6-9123-5f93fb01d80a"
      },
      "outputs": [
        {
          "metadata": {
            "tags": null
          },
          "name": "stdout",
          "output_type": "stream",
          "text": [
            "nohup: appending output to 'nohup.out'\n",
            "Streamlit is accessible at: NgrokTunnel: \"https://4f3e-35-189-172-105.ngrok-free.app\" -> \"http://localhost:8501\"\n"
          ]
        }
      ],
      "source": [
        "from pyngrok import ngrok\n",
        "import time\n",
        "import os\n",
        "\n",
        "# Start Streamlit in background with nohup to keep it running\n",
        "!nohup streamlit run app.py &\n",
        "\n",
        "# Start ngrok tunnel with explicit URL\n",
        "public_url = ngrok.connect(\"http://localhost:8501\")\n",
        "print(f\"Streamlit is accessible at: {public_url}\")\n",
        "\n",
        "# Keep the cell running\n",
        "while True:\n",
        "    time.sleep(1)\n"
      ]
    }
  ],
  "metadata": {
    "colab": {
      "provenance": []
    },
    "kernelspec": {
      "display_name": "Python 3",
      "name": "python3"
    },
    "language_info": {
      "name": "python"
    }
  },
  "nbformat": 4,
  "nbformat_minor": 0
}